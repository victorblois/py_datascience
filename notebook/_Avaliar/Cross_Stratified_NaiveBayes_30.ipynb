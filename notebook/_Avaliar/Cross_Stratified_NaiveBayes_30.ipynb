{
 "cells": [
  {
   "cell_type": "code",
   "execution_count": 5,
   "metadata": {},
   "outputs": [],
   "source": [
    "import pandas as pd"
   ]
  },
  {
   "cell_type": "code",
   "execution_count": 6,
   "metadata": {},
   "outputs": [],
   "source": [
    "import os.path\n",
    "def path_base(base_name):\n",
    "    current_dir = os.path.abspath(os.path.join(os.getcwd(), os.pardir))\n",
    "    print(current_dir)\n",
    "    data_dir = current_dir.replace('notebook','data')\n",
    "    print(data_dir)\n",
    "    data_base = data_dir + '\\\\' + base_name\n",
    "    print(data_base)\n",
    "    return data_base"
   ]
  },
  {
   "cell_type": "code",
   "execution_count": 7,
   "metadata": {},
   "outputs": [
    {
     "name": "stdout",
     "output_type": "stream",
     "text": [
      "C:\\MyPhyton\\DataScience\\notebook\n",
      "C:\\MyPhyton\\DataScience\\data\n",
      "C:\\MyPhyton\\DataScience\\data\\db_dados_credito.csv\n"
     ]
    }
   ],
   "source": [
    "base = pd.read_csv(path_base('db_dados_credito.csv'))"
   ]
  },
  {
   "cell_type": "code",
   "execution_count": 8,
   "metadata": {},
   "outputs": [],
   "source": [
    "base.loc[base.age < 0, 'age'] = 40.92"
   ]
  },
  {
   "cell_type": "code",
   "execution_count": 6,
   "metadata": {},
   "outputs": [],
   "source": [
    "previsores = base.iloc[:, 1:4]\n",
    "classe = base.iloc[:, 4]"
   ]
  },
  {
   "cell_type": "code",
   "execution_count": 4,
   "metadata": {},
   "outputs": [],
   "source": [
    "import numpy as np\n",
    "from sklearn.impute import SimpleImputer\n",
    "imputer = SimpleImputer(missing_values=np.nan, strategy='mean')\n"
   ]
  },
  {
   "cell_type": "code",
   "execution_count": 5,
   "metadata": {},
   "outputs": [],
   "source": [
    "imputer = imputer.fit(previsores.iloc[:, 0:3])"
   ]
  },
  {
   "cell_type": "code",
   "execution_count": 6,
   "metadata": {},
   "outputs": [],
   "source": [
    "previsores.iloc[:, 0:3] = imputer.transform(previsores.iloc[:,0:3])"
   ]
  },
  {
   "cell_type": "code",
   "execution_count": 7,
   "metadata": {},
   "outputs": [],
   "source": [
    "from sklearn.preprocessing import StandardScaler\n",
    "scaler = StandardScaler()\n",
    "previsores = scaler.fit_transform(previsores)"
   ]
  },
  {
   "cell_type": "code",
   "execution_count": 8,
   "metadata": {},
   "outputs": [
    {
     "data": {
      "text/plain": [
       "array([[0.],\n",
       "       [0.],\n",
       "       [0.]])"
      ]
     },
     "execution_count": 8,
     "metadata": {},
     "output_type": "execute_result"
    }
   ],
   "source": [
    "import numpy as np\n",
    "a = np.zeros(5)\n",
    "previsores.shape[0]\n",
    "b = np.zeros(shape=(previsores.shape[0],1))\n",
    "b[0:3]"
   ]
  },
  {
   "cell_type": "code",
   "execution_count": 16,
   "metadata": {},
   "outputs": [],
   "source": [
    "from sklearn.model_selection import StratifiedKFold\n",
    "from sklearn.metrics import accuracy_score,confusion_matrix\n",
    "from sklearn.naive_bayes import GaussianNB"
   ]
  },
  {
   "cell_type": "code",
   "execution_count": 20,
   "metadata": {},
   "outputs": [],
   "source": [
    "resultados30 = []\n",
    "for i in range(30):\n",
    "    kfold = StratifiedKFold(n_splits=10,shuffle=True, random_state= i )\n",
    "    resultados = []\n",
    "    for indice_treinamento, indice_teste in kfold.split(previsores,b):    \n",
    "        classificador = GaussianNB()\n",
    "        classificador.fit(previsores[indice_treinamento],classe[indice_treinamento])\n",
    "        previsoes = classificador.predict(previsores[indice_teste])\n",
    "        precisao = accuracy_score(classe[indice_teste],previsoes)\n",
    "        resultados.append(precisao)\n",
    "    \n",
    "    resultados = np.asarray(resultados)\n",
    "    media = resultados.mean()\n",
    "    resultados30.append(media)\n",
    "    "
   ]
  },
  {
   "cell_type": "code",
   "execution_count": 21,
   "metadata": {},
   "outputs": [
    {
     "name": "stdout",
     "output_type": "stream",
     "text": [
      "[0.9254999999999999, 0.9245000000000001, 0.9255000000000001, 0.925, 0.9259999999999999, 0.9250000000000002, 0.9259999999999999, 0.9254999999999999, 0.9265000000000001, 0.9255000000000001, 0.925, 0.9254999999999999, 0.9259999999999999, 0.9254999999999999, 0.9264999999999999, 0.9259999999999999, 0.9245000000000001, 0.9269999999999999, 0.9255000000000001, 0.9265000000000001, 0.9259999999999999, 0.925, 0.9270000000000002, 0.9270000000000002, 0.9254999999999999, 0.9255000000000001, 0.925, 0.9269999999999999, 0.9254999999999999, 0.9259999999999999]\n"
     ]
    }
   ],
   "source": [
    "print(resultados30)"
   ]
  },
  {
   "cell_type": "code",
   "execution_count": 22,
   "metadata": {},
   "outputs": [
    {
     "name": "stdout",
     "output_type": "stream",
     "text": [
      "0.9254999999999999\n",
      "0.9245000000000001\n",
      "0.9255000000000001\n",
      "0.925\n",
      "0.9259999999999999\n",
      "0.9250000000000002\n",
      "0.9259999999999999\n",
      "0.9254999999999999\n",
      "0.9265000000000001\n",
      "0.9255000000000001\n",
      "0.925\n",
      "0.9254999999999999\n",
      "0.9259999999999999\n",
      "0.9254999999999999\n",
      "0.9264999999999999\n",
      "0.9259999999999999\n",
      "0.9245000000000001\n",
      "0.9269999999999999\n",
      "0.9255000000000001\n",
      "0.9265000000000001\n",
      "0.9259999999999999\n",
      "0.925\n",
      "0.9270000000000002\n",
      "0.9270000000000002\n",
      "0.9254999999999999\n",
      "0.9255000000000001\n",
      "0.925\n",
      "0.9269999999999999\n",
      "0.9254999999999999\n",
      "0.9259999999999999\n"
     ]
    }
   ],
   "source": [
    "resultados30 = np.asarray(resultados30)\n",
    "resultados30\n",
    "for i in range(resultados30.size):\n",
    "    print(str(resultados30[i]))"
   ]
  },
  {
   "cell_type": "code",
   "execution_count": null,
   "metadata": {},
   "outputs": [],
   "source": []
  }
 ],
 "metadata": {
  "kernelspec": {
   "display_name": "Python 3",
   "language": "python",
   "name": "python3"
  },
  "language_info": {
   "codemirror_mode": {
    "name": "ipython",
    "version": 3
   },
   "file_extension": ".py",
   "mimetype": "text/x-python",
   "name": "python",
   "nbconvert_exporter": "python",
   "pygments_lexer": "ipython3",
   "version": "3.7.6"
  }
 },
 "nbformat": 4,
 "nbformat_minor": 4
}

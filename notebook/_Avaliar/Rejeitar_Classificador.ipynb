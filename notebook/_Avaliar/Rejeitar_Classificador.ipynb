{
 "cells": [
  {
   "cell_type": "code",
   "execution_count": 5,
   "metadata": {},
   "outputs": [],
   "source": [
    "import pandas as pd\n",
    "import pickle\n",
    "from sklearn.impute import SimpleImputer\n",
    "from sklearn.preprocessing import StandardScaler\n",
    "import numpy as np\n",
    "import warnings\n",
    "warnings.filterwarnings(\"ignore\")"
   ]
  },
  {
   "cell_type": "code",
   "execution_count": 6,
   "metadata": {},
   "outputs": [],
   "source": [
    "import os.path\n",
    "def path_base(base_name):\n",
    "    current_dir = os.path.abspath(os.path.join(os.getcwd(), os.pardir))\n",
    "    print(current_dir)\n",
    "    data_dir = current_dir.replace('notebook','data')\n",
    "    print(data_dir)\n",
    "    data_base = data_dir + '\\\\' + base_name\n",
    "    print(data_base)\n",
    "    return data_base"
   ]
  },
  {
   "cell_type": "code",
   "execution_count": 7,
   "metadata": {
    "scrolled": true
   },
   "outputs": [
    {
     "name": "stdout",
     "output_type": "stream",
     "text": [
      "C:\\MyPhyton\\DataScience\\notebook\n",
      "C:\\MyPhyton\\DataScience\\data\n",
      "C:\\MyPhyton\\DataScience\\data\\db_dados_credito.csv\n"
     ]
    }
   ],
   "source": [
    "base = pd.read_csv(path_base('db_dados_credito.csv'))"
   ]
  },
  {
   "cell_type": "code",
   "execution_count": 8,
   "metadata": {},
   "outputs": [],
   "source": [
    "base.loc[base.age < 0, 'age'] = 40.92  \n",
    "\n",
    "previsores = base.iloc[:, 1:4]\n",
    "classe = base.iloc[:, 4]\n",
    "\n",
    "imputer = SimpleImputer(missing_values=np.nan, strategy='mean')\n",
    "imputer = imputer.fit(previsores.iloc[:, 0:3])\n",
    "\n",
    "previsores.iloc[:, 0:3] = imputer.transform(previsores.iloc[:,0:3])\n",
    "scaler = StandardScaler()\n",
    "previsores = scaler.fit_transform(previsores)"
   ]
  },
  {
   "cell_type": "code",
   "execution_count": 10,
   "metadata": {},
   "outputs": [],
   "source": [
    "svm = pickle.load(open('svm_finalizado.sav', 'rb'))\n",
    "random_forest = pickle.load(open('random_forest_finalizado.sav', 'rb'))\n",
    "mlp = pickle.load(open('mlp_finalizado.sav', 'rb'))"
   ]
  },
  {
   "cell_type": "code",
   "execution_count": 11,
   "metadata": {},
   "outputs": [],
   "source": [
    "resultado_svm = svm.score(previsores, classe)\n",
    "resultado_random_forest = random_forest.score(previsores, classe)\n",
    "resultado_mlp = mlp.score(previsores, classe)"
   ]
  },
  {
   "cell_type": "code",
   "execution_count": 12,
   "metadata": {},
   "outputs": [
    {
     "name": "stdout",
     "output_type": "stream",
     "text": [
      "0.989\n",
      "1.0\n",
      "1.0\n"
     ]
    }
   ],
   "source": [
    "print(resultado_svm)\n",
    "print(resultado_random_forest)\n",
    "print(resultado_mlp)"
   ]
  },
  {
   "cell_type": "code",
   "execution_count": 21,
   "metadata": {},
   "outputs": [],
   "source": [
    "novo_registro = [[50000, 40, 5000]]\n",
    "novo_registro = np.asarray(novo_registro)\n",
    "novo_registro = novo_registro.reshape(-1, 1)\n",
    "novo_registro = scaler.fit_transform(novo_registro)\n",
    "novo_registro = novo_registro.reshape(-1, 3)"
   ]
  },
  {
   "cell_type": "code",
   "execution_count": 22,
   "metadata": {},
   "outputs": [],
   "source": [
    "resposta_svm = svm.predict(novo_registro)\n",
    "resposta_random_forest = random_forest.predict(novo_registro)\n",
    "resposta_mlp = mlp.predict(novo_registro)"
   ]
  },
  {
   "cell_type": "code",
   "execution_count": 23,
   "metadata": {},
   "outputs": [
    {
     "name": "stdout",
     "output_type": "stream",
     "text": [
      "[0]\n",
      "[0]\n",
      "[0]\n"
     ]
    }
   ],
   "source": [
    "print(resposta_svm)\n",
    "print(resposta_random_forest)\n",
    "print(resposta_mlp)"
   ]
  },
  {
   "cell_type": "code",
   "execution_count": 35,
   "metadata": {},
   "outputs": [],
   "source": [
    "probabilidade_svm = svm.predict_proba(novo_registro)\n",
    "confianca_svm = probabilidade_svm.max()\n",
    "probabilidade_random_forest = random_forest.predict_proba(novo_registro)\n",
    "confianca_random_forest = probabilidade_random_forest.max()\n",
    "probabilidade_mlp = mlp.predict_proba(novo_registro)\n",
    "confianca_mlp = probabilidade_mlp.max()"
   ]
  },
  {
   "cell_type": "code",
   "execution_count": 36,
   "metadata": {},
   "outputs": [
    {
     "name": "stdout",
     "output_type": "stream",
     "text": [
      "Probabilidade SVM: [[9.9999990e-01 1.0000001e-07]]\n",
      "Confiabilidade: 0.9999998999999902\n",
      "Probabilidade Random: [[0.95 0.05]]\n",
      "Confiabilidade: 0.95\n",
      "Probabilidade MLP: [[1.00000000e+00 1.65497786e-37]]\n",
      "Confiabilidade: 1.0\n"
     ]
    }
   ],
   "source": [
    "print('Probabilidade SVM:', probabilidade_svm)\n",
    "print('Confiabilidade:',confiabilidade_svm)\n",
    "print('Probabilidade Random:',probabilidade_random_forest)\n",
    "print('Confiabilidade:',confiabilidade_random_forest)\n",
    "print('Probabilidade MLP:',probabilidade_mlp)\n",
    "print('Confiabilidade:',confiabilidade_mlp)"
   ]
  },
  {
   "cell_type": "code",
   "execution_count": 37,
   "metadata": {},
   "outputs": [],
   "source": [
    "paga = 0 \n",
    "nao_paga = 0"
   ]
  },
  {
   "cell_type": "code",
   "execution_count": 38,
   "metadata": {},
   "outputs": [],
   "source": [
    "confianca_min = 0.98"
   ]
  },
  {
   "cell_type": "code",
   "execution_count": 39,
   "metadata": {},
   "outputs": [],
   "source": [
    "if confianca_svm >= confianca_min:\n",
    "    if resposta_svm[0] == 1:\n",
    "        paga += 1\n",
    "    else:\n",
    "        nao_paga += 1"
   ]
  },
  {
   "cell_type": "code",
   "execution_count": 40,
   "metadata": {},
   "outputs": [],
   "source": [
    "if confianca_random_forest >= confianca_min:\n",
    "    if resposta_random_forest[0] == 1:\n",
    "        paga += 1\n",
    "    else:\n",
    "        nao_paga += 1"
   ]
  },
  {
   "cell_type": "code",
   "execution_count": 41,
   "metadata": {},
   "outputs": [],
   "source": [
    "if confianca_mlp >= confianca_min:\n",
    "    if resposta_mlp[0] == 1:\n",
    "        paga += 1\n",
    "    else:\n",
    "        nao_paga += 1"
   ]
  },
  {
   "cell_type": "code",
   "execution_count": 42,
   "metadata": {},
   "outputs": [
    {
     "name": "stdout",
     "output_type": "stream",
     "text": [
      "Cliente não paga\n"
     ]
    }
   ],
   "source": [
    "if paga > nao_paga:\n",
    "    print('Cliente paga')\n",
    "elif paga > nao_paga:\n",
    "    print('Resultado empatado')\n",
    "else: \n",
    "    print('Cliente não paga')"
   ]
  },
  {
   "cell_type": "code",
   "execution_count": null,
   "metadata": {},
   "outputs": [],
   "source": []
  },
  {
   "cell_type": "code",
   "execution_count": null,
   "metadata": {},
   "outputs": [],
   "source": []
  }
 ],
 "metadata": {
  "kernelspec": {
   "display_name": "Python 3",
   "language": "python",
   "name": "python3"
  },
  "language_info": {
   "codemirror_mode": {
    "name": "ipython",
    "version": 3
   },
   "file_extension": ".py",
   "mimetype": "text/x-python",
   "name": "python",
   "nbconvert_exporter": "python",
   "pygments_lexer": "ipython3",
   "version": "3.7.6"
  }
 },
 "nbformat": 4,
 "nbformat_minor": 4
}

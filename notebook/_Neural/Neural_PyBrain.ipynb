{
 "cells": [
  {
   "cell_type": "code",
   "execution_count": 13,
   "metadata": {},
   "outputs": [],
   "source": [
    "from pybrain.structure import FeedForwardNetwork\n",
    "from pybrain.structure import LinearLayer,SigmoidLayer,BiasUnit\n",
    "from pybrain.structure import FullConnection"
   ]
  },
  {
   "cell_type": "code",
   "execution_count": 14,
   "metadata": {},
   "outputs": [],
   "source": [
    "rede = FeedForwardNetwork()"
   ]
  },
  {
   "cell_type": "code",
   "execution_count": 15,
   "metadata": {},
   "outputs": [],
   "source": [
    "camadaEntrada = LinearLayer(2)\n",
    "camadaOculta = SigmoidLayer(3)\n",
    "camadaSaida = SigmoidLayer(1)\n",
    "bias1 = BiasUnit()\n",
    "bias2 = BiasUnit()"
   ]
  },
  {
   "cell_type": "code",
   "execution_count": 16,
   "metadata": {},
   "outputs": [],
   "source": [
    "rede.addModule(camadaEntrada)\n",
    "rede.addModule(camadaOculta)\n",
    "rede.addModule(camadaSaida)\n",
    "rede.addModule(bias1)\n",
    "rede.addModule(bias2)"
   ]
  },
  {
   "cell_type": "code",
   "execution_count": 17,
   "metadata": {},
   "outputs": [],
   "source": [
    "entradaOculta = FullConnection(camadaEntrada,camadaOculta)\n",
    "ocultaSaida = FullConnection(camadaOculta,camadaSaida)\n",
    "biasOculta = FullConnection(bias1,camadaOculta)\n",
    "biasSaida = FullConnection(bias2,camadaSaida)"
   ]
  },
  {
   "cell_type": "code",
   "execution_count": 18,
   "metadata": {},
   "outputs": [],
   "source": [
    "rede.sortModules()"
   ]
  },
  {
   "cell_type": "code",
   "execution_count": 19,
   "metadata": {},
   "outputs": [
    {
     "name": "stdout",
     "output_type": "stream",
     "text": [
      "FeedForwardNetwork-15\n",
      "   Modules:\n",
      "    [<BiasUnit 'BiasUnit-12'>, <BiasUnit 'BiasUnit-14'>, <LinearLayer 'LinearLayer-10'>, <SigmoidLayer 'SigmoidLayer-11'>, <SigmoidLayer 'SigmoidLayer-13'>]\n",
      "   Connections:\n",
      "    []\n",
      "\n"
     ]
    }
   ],
   "source": [
    "print(rede)"
   ]
  },
  {
   "cell_type": "code",
   "execution_count": 20,
   "metadata": {},
   "outputs": [
    {
     "name": "stdout",
     "output_type": "stream",
     "text": [
      "[ 1.74428718 -1.28418623  1.46089109  0.44918304 -0.0383673  -1.09084732]\n"
     ]
    }
   ],
   "source": [
    "#pesos camada de entrada\n",
    "print(entradaOculta.params)"
   ]
  },
  {
   "cell_type": "code",
   "execution_count": 21,
   "metadata": {},
   "outputs": [
    {
     "name": "stdout",
     "output_type": "stream",
     "text": [
      "[-1.67219398  0.88901253  1.00173607]\n"
     ]
    }
   ],
   "source": [
    "#pesos camada de oculta para saida\n",
    "print(ocultaSaida.params)"
   ]
  },
  {
   "cell_type": "code",
   "execution_count": 22,
   "metadata": {},
   "outputs": [
    {
     "name": "stdout",
     "output_type": "stream",
     "text": [
      "[ 0.16656238 -0.62119373 -0.48968983]\n"
     ]
    }
   ],
   "source": [
    "#pesos bias1\n",
    "print(biasOculta.params)"
   ]
  },
  {
   "cell_type": "code",
   "execution_count": 23,
   "metadata": {},
   "outputs": [
    {
     "name": "stdout",
     "output_type": "stream",
     "text": [
      "[-0.15085675]\n"
     ]
    }
   ],
   "source": [
    "#pesos bias1\n",
    "print(biasSaida.params)"
   ]
  },
  {
   "cell_type": "code",
   "execution_count": null,
   "metadata": {},
   "outputs": [],
   "source": []
  }
 ],
 "metadata": {
  "kernelspec": {
   "display_name": "Python 3",
   "language": "python",
   "name": "python3"
  },
  "language_info": {
   "codemirror_mode": {
    "name": "ipython",
    "version": 3
   },
   "file_extension": ".py",
   "mimetype": "text/x-python",
   "name": "python",
   "nbconvert_exporter": "python",
   "pygments_lexer": "ipython3",
   "version": "3.7.6"
  }
 },
 "nbformat": 4,
 "nbformat_minor": 4
}

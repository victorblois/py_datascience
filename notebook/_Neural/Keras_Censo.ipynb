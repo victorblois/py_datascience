{
 "cells": [
  {
   "cell_type": "code",
   "execution_count": 5,
   "metadata": {},
   "outputs": [],
   "source": [
    "import pandas as pd\n",
    "pd.options.display.float_format = '{:.5f}'.format\n",
    "import numpy as np\n",
    "np.set_printoptions(precision=4)\n",
    "np.set_printoptions(suppress=True)"
   ]
  },
  {
   "cell_type": "code",
   "execution_count": 6,
   "metadata": {},
   "outputs": [],
   "source": [
    "import os.path\n",
    "def path_base(base_name):\n",
    "    current_dir = os.path.abspath(os.path.join(os.getcwd(), os.pardir))\n",
    "    print(current_dir)\n",
    "    data_dir = current_dir.replace('notebook','data')\n",
    "    print(data_dir)\n",
    "    data_base = data_dir + '\\\\' + base_name\n",
    "    print(data_base)\n",
    "    return data_base"
   ]
  },
  {
   "cell_type": "code",
   "execution_count": 7,
   "metadata": {
    "scrolled": false
   },
   "outputs": [
    {
     "name": "stdout",
     "output_type": "stream",
     "text": [
      "C:\\MyPhyton\\DataScience\\notebook\n",
      "C:\\MyPhyton\\DataScience\\data\n",
      "C:\\MyPhyton\\DataScience\\data\\db_censo.csv\n"
     ]
    }
   ],
   "source": [
    "base = pd.read_csv(path_base('db_censo.csv'))"
   ]
  },
  {
   "cell_type": "code",
   "execution_count": 8,
   "metadata": {},
   "outputs": [
    {
     "data": {
      "text/plain": [
       "(32561, 15)"
      ]
     },
     "execution_count": 8,
     "metadata": {},
     "output_type": "execute_result"
    }
   ],
   "source": [
    "base.shape"
   ]
  },
  {
   "cell_type": "code",
   "execution_count": 5,
   "metadata": {},
   "outputs": [
    {
     "data": {
      "text/html": [
       "<div>\n",
       "<style scoped>\n",
       "    .dataframe tbody tr th:only-of-type {\n",
       "        vertical-align: middle;\n",
       "    }\n",
       "\n",
       "    .dataframe tbody tr th {\n",
       "        vertical-align: top;\n",
       "    }\n",
       "\n",
       "    .dataframe thead th {\n",
       "        text-align: right;\n",
       "    }\n",
       "</style>\n",
       "<table border=\"1\" class=\"dataframe\">\n",
       "  <thead>\n",
       "    <tr style=\"text-align: right;\">\n",
       "      <th></th>\n",
       "      <th>age</th>\n",
       "      <th>workclass</th>\n",
       "      <th>final-weight</th>\n",
       "      <th>education</th>\n",
       "      <th>education-num</th>\n",
       "      <th>marital-status</th>\n",
       "      <th>occupation</th>\n",
       "      <th>relationship</th>\n",
       "      <th>race</th>\n",
       "      <th>sex</th>\n",
       "      <th>capital-gain</th>\n",
       "      <th>capital-loos</th>\n",
       "      <th>hour-per-week</th>\n",
       "      <th>native-country</th>\n",
       "      <th>income</th>\n",
       "    </tr>\n",
       "  </thead>\n",
       "  <tbody>\n",
       "    <tr>\n",
       "      <th>0</th>\n",
       "      <td>39</td>\n",
       "      <td>State-gov</td>\n",
       "      <td>77516</td>\n",
       "      <td>Bachelors</td>\n",
       "      <td>13</td>\n",
       "      <td>Never-married</td>\n",
       "      <td>Adm-clerical</td>\n",
       "      <td>Not-in-family</td>\n",
       "      <td>White</td>\n",
       "      <td>Male</td>\n",
       "      <td>2174</td>\n",
       "      <td>0</td>\n",
       "      <td>40</td>\n",
       "      <td>United-States</td>\n",
       "      <td>&lt;=50K</td>\n",
       "    </tr>\n",
       "    <tr>\n",
       "      <th>1</th>\n",
       "      <td>50</td>\n",
       "      <td>Self-emp-not-inc</td>\n",
       "      <td>83311</td>\n",
       "      <td>Bachelors</td>\n",
       "      <td>13</td>\n",
       "      <td>Married-civ-spouse</td>\n",
       "      <td>Exec-managerial</td>\n",
       "      <td>Husband</td>\n",
       "      <td>White</td>\n",
       "      <td>Male</td>\n",
       "      <td>0</td>\n",
       "      <td>0</td>\n",
       "      <td>13</td>\n",
       "      <td>United-States</td>\n",
       "      <td>&lt;=50K</td>\n",
       "    </tr>\n",
       "    <tr>\n",
       "      <th>2</th>\n",
       "      <td>38</td>\n",
       "      <td>Private</td>\n",
       "      <td>215646</td>\n",
       "      <td>HS-grad</td>\n",
       "      <td>9</td>\n",
       "      <td>Divorced</td>\n",
       "      <td>Handlers-cleaners</td>\n",
       "      <td>Not-in-family</td>\n",
       "      <td>White</td>\n",
       "      <td>Male</td>\n",
       "      <td>0</td>\n",
       "      <td>0</td>\n",
       "      <td>40</td>\n",
       "      <td>United-States</td>\n",
       "      <td>&lt;=50K</td>\n",
       "    </tr>\n",
       "  </tbody>\n",
       "</table>\n",
       "</div>"
      ],
      "text/plain": [
       "   age          workclass  final-weight   education  education-num  \\\n",
       "0   39          State-gov         77516   Bachelors             13   \n",
       "1   50   Self-emp-not-inc         83311   Bachelors             13   \n",
       "2   38            Private        215646     HS-grad              9   \n",
       "\n",
       "        marital-status          occupation    relationship    race    sex  \\\n",
       "0        Never-married        Adm-clerical   Not-in-family   White   Male   \n",
       "1   Married-civ-spouse     Exec-managerial         Husband   White   Male   \n",
       "2             Divorced   Handlers-cleaners   Not-in-family   White   Male   \n",
       "\n",
       "   capital-gain  capital-loos  hour-per-week  native-country  income  \n",
       "0          2174             0             40   United-States   <=50K  \n",
       "1             0             0             13   United-States   <=50K  \n",
       "2             0             0             40   United-States   <=50K  "
      ]
     },
     "execution_count": 5,
     "metadata": {},
     "output_type": "execute_result"
    }
   ],
   "source": [
    "base.head(3)"
   ]
  },
  {
   "cell_type": "code",
   "execution_count": 5,
   "metadata": {},
   "outputs": [
    {
     "data": {
      "text/html": [
       "<div>\n",
       "<style scoped>\n",
       "    .dataframe tbody tr th:only-of-type {\n",
       "        vertical-align: middle;\n",
       "    }\n",
       "\n",
       "    .dataframe tbody tr th {\n",
       "        vertical-align: top;\n",
       "    }\n",
       "\n",
       "    .dataframe thead th {\n",
       "        text-align: right;\n",
       "    }\n",
       "</style>\n",
       "<table border=\"1\" class=\"dataframe\">\n",
       "  <thead>\n",
       "    <tr style=\"text-align: right;\">\n",
       "      <th></th>\n",
       "      <th>age</th>\n",
       "      <th>final-weight</th>\n",
       "      <th>education-num</th>\n",
       "      <th>capital-gain</th>\n",
       "      <th>capital-loos</th>\n",
       "      <th>hour-per-week</th>\n",
       "    </tr>\n",
       "  </thead>\n",
       "  <tbody>\n",
       "    <tr>\n",
       "      <th>count</th>\n",
       "      <td>32561.00000</td>\n",
       "      <td>32561.00000</td>\n",
       "      <td>32561.00000</td>\n",
       "      <td>32561.00000</td>\n",
       "      <td>32561.00000</td>\n",
       "      <td>32561.00000</td>\n",
       "    </tr>\n",
       "    <tr>\n",
       "      <th>mean</th>\n",
       "      <td>38.58165</td>\n",
       "      <td>189778.36651</td>\n",
       "      <td>10.08068</td>\n",
       "      <td>1077.64884</td>\n",
       "      <td>87.30383</td>\n",
       "      <td>40.43746</td>\n",
       "    </tr>\n",
       "    <tr>\n",
       "      <th>std</th>\n",
       "      <td>13.64043</td>\n",
       "      <td>105549.97770</td>\n",
       "      <td>2.57272</td>\n",
       "      <td>7385.29208</td>\n",
       "      <td>402.96022</td>\n",
       "      <td>12.34743</td>\n",
       "    </tr>\n",
       "    <tr>\n",
       "      <th>min</th>\n",
       "      <td>17.00000</td>\n",
       "      <td>12285.00000</td>\n",
       "      <td>1.00000</td>\n",
       "      <td>0.00000</td>\n",
       "      <td>0.00000</td>\n",
       "      <td>1.00000</td>\n",
       "    </tr>\n",
       "    <tr>\n",
       "      <th>25%</th>\n",
       "      <td>28.00000</td>\n",
       "      <td>117827.00000</td>\n",
       "      <td>9.00000</td>\n",
       "      <td>0.00000</td>\n",
       "      <td>0.00000</td>\n",
       "      <td>40.00000</td>\n",
       "    </tr>\n",
       "    <tr>\n",
       "      <th>50%</th>\n",
       "      <td>37.00000</td>\n",
       "      <td>178356.00000</td>\n",
       "      <td>10.00000</td>\n",
       "      <td>0.00000</td>\n",
       "      <td>0.00000</td>\n",
       "      <td>40.00000</td>\n",
       "    </tr>\n",
       "    <tr>\n",
       "      <th>75%</th>\n",
       "      <td>48.00000</td>\n",
       "      <td>237051.00000</td>\n",
       "      <td>12.00000</td>\n",
       "      <td>0.00000</td>\n",
       "      <td>0.00000</td>\n",
       "      <td>45.00000</td>\n",
       "    </tr>\n",
       "    <tr>\n",
       "      <th>max</th>\n",
       "      <td>90.00000</td>\n",
       "      <td>1484705.00000</td>\n",
       "      <td>16.00000</td>\n",
       "      <td>99999.00000</td>\n",
       "      <td>4356.00000</td>\n",
       "      <td>99.00000</td>\n",
       "    </tr>\n",
       "  </tbody>\n",
       "</table>\n",
       "</div>"
      ],
      "text/plain": [
       "              age  final-weight  education-num  capital-gain  capital-loos  \\\n",
       "count 32561.00000   32561.00000    32561.00000   32561.00000   32561.00000   \n",
       "mean     38.58165  189778.36651       10.08068    1077.64884      87.30383   \n",
       "std      13.64043  105549.97770        2.57272    7385.29208     402.96022   \n",
       "min      17.00000   12285.00000        1.00000       0.00000       0.00000   \n",
       "25%      28.00000  117827.00000        9.00000       0.00000       0.00000   \n",
       "50%      37.00000  178356.00000       10.00000       0.00000       0.00000   \n",
       "75%      48.00000  237051.00000       12.00000       0.00000       0.00000   \n",
       "max      90.00000 1484705.00000       16.00000   99999.00000    4356.00000   \n",
       "\n",
       "       hour-per-week  \n",
       "count    32561.00000  \n",
       "mean        40.43746  \n",
       "std         12.34743  \n",
       "min          1.00000  \n",
       "25%         40.00000  \n",
       "50%         40.00000  \n",
       "75%         45.00000  \n",
       "max         99.00000  "
      ]
     },
     "execution_count": 5,
     "metadata": {},
     "output_type": "execute_result"
    }
   ],
   "source": [
    "base.describe()"
   ]
  },
  {
   "cell_type": "markdown",
   "metadata": {},
   "source": [
    "# Previsores e classes"
   ]
  },
  {
   "cell_type": "code",
   "execution_count": 6,
   "metadata": {},
   "outputs": [],
   "source": [
    "previsores = base.iloc[:,0:14].values\n"
   ]
  },
  {
   "cell_type": "code",
   "execution_count": 7,
   "metadata": {},
   "outputs": [],
   "source": [
    "classe = base.iloc[:,14].values\n"
   ]
  },
  {
   "cell_type": "markdown",
   "metadata": {},
   "source": [
    "# Transformação de categóricos para numéricos"
   ]
  },
  {
   "cell_type": "code",
   "execution_count": 8,
   "metadata": {},
   "outputs": [],
   "source": [
    "from sklearn.preprocessing import LabelEncoder, OneHotEncoder\n",
    "from sklearn.compose import ColumnTransformer\n",
    "labelencoder_previsores = LabelEncoder()"
   ]
  },
  {
   "cell_type": "code",
   "execution_count": 9,
   "metadata": {},
   "outputs": [],
   "source": [
    "previsores[:, 1] = labelencoder_previsores.fit_transform(previsores[:, 1])\n",
    "previsores[:, 3] = labelencoder_previsores.fit_transform(previsores[:, 3])\n",
    "previsores[:, 5] = labelencoder_previsores.fit_transform(previsores[:, 5])\n",
    "previsores[:, 6] = labelencoder_previsores.fit_transform(previsores[:, 6])\n",
    "previsores[:, 7] = labelencoder_previsores.fit_transform(previsores[:, 7])\n",
    "previsores[:, 8] = labelencoder_previsores.fit_transform(previsores[:, 8])\n",
    "previsores[:, 9] = labelencoder_previsores.fit_transform(previsores[:, 9])\n",
    "previsores[:, 13] = labelencoder_previsores.fit_transform(previsores[:, 13])"
   ]
  },
  {
   "cell_type": "code",
   "execution_count": 10,
   "metadata": {},
   "outputs": [],
   "source": [
    "onehotencorder = ColumnTransformer(transformers=[(\"OneHot\", OneHotEncoder(), [1,3,5,6,7,8,9,13])],remainder='passthrough')\n",
    "previsores = onehotencorder.fit_transform(previsores).toarray()"
   ]
  },
  {
   "cell_type": "code",
   "execution_count": 11,
   "metadata": {},
   "outputs": [
    {
     "data": {
      "text/plain": [
       "(32561, 108)"
      ]
     },
     "execution_count": 11,
     "metadata": {},
     "output_type": "execute_result"
    }
   ],
   "source": [
    "previsores.shape"
   ]
  },
  {
   "cell_type": "markdown",
   "metadata": {},
   "source": [
    "type(previsores)"
   ]
  },
  {
   "cell_type": "markdown",
   "metadata": {},
   "source": [
    "# Deixar as variáveis na mesma escala\n",
    "Importante em algoritimos que usam distancia Euclidiana como o Kmeans"
   ]
  },
  {
   "cell_type": "code",
   "execution_count": 12,
   "metadata": {},
   "outputs": [],
   "source": [
    "labelencorder_classe = LabelEncoder()\n",
    "classe = labelencorder_classe.fit_transform(classe)\n"
   ]
  },
  {
   "cell_type": "code",
   "execution_count": 13,
   "metadata": {},
   "outputs": [],
   "source": [
    "from sklearn.preprocessing import StandardScaler\n",
    "scaler = StandardScaler()\n",
    "previsores = scaler.fit_transform(previsores)"
   ]
  },
  {
   "cell_type": "markdown",
   "metadata": {},
   "source": [
    "# Divisão em base de treinos e testes"
   ]
  },
  {
   "cell_type": "code",
   "execution_count": 14,
   "metadata": {},
   "outputs": [],
   "source": [
    "from sklearn.model_selection import train_test_split\n",
    "previsores_treinamento, previsores_teste, classe_treinamento, classe_teste = train_test_split(previsores, classe, test_size=0.15, random_state=0)"
   ]
  },
  {
   "cell_type": "code",
   "execution_count": 15,
   "metadata": {},
   "outputs": [
    {
     "name": "stdout",
     "output_type": "stream",
     "text": [
      "(27676, 108)\n",
      "(27676,)\n"
     ]
    }
   ],
   "source": [
    "print(previsores_treinamento.shape)\n",
    "print(classe_treinamento.shape)"
   ]
  },
  {
   "cell_type": "code",
   "execution_count": 16,
   "metadata": {},
   "outputs": [
    {
     "name": "stdout",
     "output_type": "stream",
     "text": [
      "(4885, 108)\n",
      "(4885,)\n"
     ]
    }
   ],
   "source": [
    "print(previsores_teste.shape)\n",
    "print(classe_teste.shape)"
   ]
  },
  {
   "cell_type": "code",
   "execution_count": 17,
   "metadata": {},
   "outputs": [
    {
     "name": "stderr",
     "output_type": "stream",
     "text": [
      "Using TensorFlow backend.\n"
     ]
    }
   ],
   "source": [
    "import keras\n",
    "from keras.models import Sequential\n",
    "from keras.layers import Dense"
   ]
  },
  {
   "cell_type": "code",
   "execution_count": 20,
   "metadata": {},
   "outputs": [],
   "source": [
    "classificador = Sequential()\n",
    "classificador.add(Dense(units=55,activation='relu',input_dim=108))\n",
    "classificador.add(Dense(units=55,activation='relu'))\n",
    "classificador.add(Dense(units=1,activation='sigmoid'))\n",
    "classificador.compile(optimizer='adam',\n",
    "                      loss = 'binary_crossentropy',\n",
    "                     metrics=['accuracy'])"
   ]
  },
  {
   "cell_type": "code",
   "execution_count": 21,
   "metadata": {},
   "outputs": [
    {
     "name": "stdout",
     "output_type": "stream",
     "text": [
      "Epoch 1/100\n",
      "27676/27676 [==============================] - 4s 133us/step - loss: 0.3443 - accuracy: 0.8410\n",
      "Epoch 2/100\n",
      "27676/27676 [==============================] - 4s 130us/step - loss: 0.3134 - accuracy: 0.8542\n",
      "Epoch 3/100\n",
      "27676/27676 [==============================] - 3s 108us/step - loss: 0.3053 - accuracy: 0.8575\n",
      "Epoch 4/100\n",
      "27676/27676 [==============================] - 3s 116us/step - loss: 0.2997 - accuracy: 0.8604\n",
      "Epoch 5/100\n",
      "27676/27676 [==============================] - 3s 113us/step - loss: 0.2953 - accuracy: 0.8629\n",
      "Epoch 6/100\n",
      "27676/27676 [==============================] - 3s 114us/step - loss: 0.2915 - accuracy: 0.8658\n",
      "Epoch 7/100\n",
      "27676/27676 [==============================] - 3s 121us/step - loss: 0.2879 - accuracy: 0.8677\n",
      "Epoch 8/100\n",
      "27676/27676 [==============================] - 3s 108us/step - loss: 0.2841 - accuracy: 0.8689\n",
      "Epoch 9/100\n",
      "27676/27676 [==============================] - 3s 113us/step - loss: 0.2801 - accuracy: 0.8684\n",
      "Epoch 10/100\n",
      "27676/27676 [==============================] - 3s 113us/step - loss: 0.2760 - accuracy: 0.8708\n",
      "Epoch 11/100\n",
      "27676/27676 [==============================] - 3s 114us/step - loss: 0.2720 - accuracy: 0.8720\n",
      "Epoch 12/100\n",
      "27676/27676 [==============================] - 3s 113us/step - loss: 0.2678 - accuracy: 0.8740\n",
      "Epoch 13/100\n",
      "27676/27676 [==============================] - 3s 112us/step - loss: 0.2648 - accuracy: 0.8758\n",
      "Epoch 14/100\n",
      "27676/27676 [==============================] - 3s 118us/step - loss: 0.2618 - accuracy: 0.8777\n",
      "Epoch 15/100\n",
      "27676/27676 [==============================] - 3s 116us/step - loss: 0.2584 - accuracy: 0.8792\n",
      "Epoch 16/100\n",
      "27676/27676 [==============================] - 3s 114us/step - loss: 0.2560 - accuracy: 0.8814\n",
      "Epoch 17/100\n",
      "27676/27676 [==============================] - 3s 117us/step - loss: 0.2520 - accuracy: 0.8812\n",
      "Epoch 18/100\n",
      "27676/27676 [==============================] - 3s 114us/step - loss: 0.2490 - accuracy: 0.8845\n",
      "Epoch 19/100\n",
      "27676/27676 [==============================] - 3s 115us/step - loss: 0.2447 - accuracy: 0.8848\n",
      "Epoch 20/100\n",
      "27676/27676 [==============================] - 3s 115us/step - loss: 0.2425 - accuracy: 0.8868\n",
      "Epoch 21/100\n",
      "27676/27676 [==============================] - 3s 110us/step - loss: 0.2399 - accuracy: 0.8880\n",
      "Epoch 22/100\n",
      "27676/27676 [==============================] - 3s 112us/step - loss: 0.2367 - accuracy: 0.8881\n",
      "Epoch 23/100\n",
      "27676/27676 [==============================] - 3s 112us/step - loss: 0.2342 - accuracy: 0.8895\n",
      "Epoch 24/100\n",
      "27676/27676 [==============================] - 3s 117us/step - loss: 0.2315 - accuracy: 0.8908\n",
      "Epoch 25/100\n",
      "27676/27676 [==============================] - 3s 115us/step - loss: 0.2295 - accuracy: 0.8929\n",
      "Epoch 26/100\n",
      "27676/27676 [==============================] - 3s 111us/step - loss: 0.2275 - accuracy: 0.8932\n",
      "Epoch 27/100\n",
      "27676/27676 [==============================] - 3s 113us/step - loss: 0.2238 - accuracy: 0.8945\n",
      "Epoch 28/100\n",
      "27676/27676 [==============================] - 3s 112us/step - loss: 0.2223 - accuracy: 0.8957\n",
      "Epoch 29/100\n",
      "27676/27676 [==============================] - 3s 117us/step - loss: 0.2206 - accuracy: 0.8972\n",
      "Epoch 30/100\n",
      "27676/27676 [==============================] - 3s 115us/step - loss: 0.2171 - accuracy: 0.8981\n",
      "Epoch 31/100\n",
      "27676/27676 [==============================] - 3s 114us/step - loss: 0.2164 - accuracy: 0.8984\n",
      "Epoch 32/100\n",
      "27676/27676 [==============================] - 3s 114us/step - loss: 0.2144 - accuracy: 0.8995\n",
      "Epoch 33/100\n",
      "27676/27676 [==============================] - 3s 114us/step - loss: 0.2119 - accuracy: 0.9008\n",
      "Epoch 34/100\n",
      "27676/27676 [==============================] - 3s 118us/step - loss: 0.2111 - accuracy: 0.9007\n",
      "Epoch 35/100\n",
      "27676/27676 [==============================] - 3s 114us/step - loss: 0.2089 - accuracy: 0.9023\n",
      "Epoch 36/100\n",
      "27676/27676 [==============================] - 3s 117us/step - loss: 0.2065 - accuracy: 0.9031\n",
      "Epoch 37/100\n",
      "27676/27676 [==============================] - 3s 114us/step - loss: 0.2053 - accuracy: 0.9033\n",
      "Epoch 38/100\n",
      "27676/27676 [==============================] - 4s 129us/step - loss: 0.2041 - accuracy: 0.9052\n",
      "Epoch 39/100\n",
      "27676/27676 [==============================] - 3s 115us/step - loss: 0.2033 - accuracy: 0.9053\n",
      "Epoch 40/100\n",
      "27676/27676 [==============================] - 3s 114us/step - loss: 0.2024 - accuracy: 0.9052\n",
      "Epoch 41/100\n",
      "27676/27676 [==============================] - 3s 123us/step - loss: 0.1987 - accuracy: 0.90790s - loss: 0.1995 \n",
      "Epoch 42/100\n",
      "27676/27676 [==============================] - 3s 110us/step - loss: 0.1982 - accuracy: 0.9074\n",
      "Epoch 43/100\n",
      "27676/27676 [==============================] - 3s 116us/step - loss: 0.1959 - accuracy: 0.9089\n",
      "Epoch 44/100\n",
      "27676/27676 [==============================] - 3s 119us/step - loss: 0.1960 - accuracy: 0.9076\n",
      "Epoch 45/100\n",
      "27676/27676 [==============================] - 3s 117us/step - loss: 0.1940 - accuracy: 0.9093\n",
      "Epoch 46/100\n",
      "27676/27676 [==============================] - 3s 117us/step - loss: 0.1950 - accuracy: 0.9094\n",
      "Epoch 47/100\n",
      "27676/27676 [==============================] - 3s 115us/step - loss: 0.1909 - accuracy: 0.9100\n",
      "Epoch 48/100\n",
      "27676/27676 [==============================] - 3s 113us/step - loss: 0.1899 - accuracy: 0.9117\n",
      "Epoch 49/100\n",
      "27676/27676 [==============================] - 3s 115us/step - loss: 0.1892 - accuracy: 0.9104\n",
      "Epoch 50/100\n",
      "27676/27676 [==============================] - 3s 116us/step - loss: 0.1888 - accuracy: 0.9112\n",
      "Epoch 51/100\n",
      "27676/27676 [==============================] - 3s 116us/step - loss: 0.1871 - accuracy: 0.9130\n",
      "Epoch 52/100\n",
      "27676/27676 [==============================] - 3s 115us/step - loss: 0.1863 - accuracy: 0.9121\n",
      "Epoch 53/100\n",
      "27676/27676 [==============================] - 3s 116us/step - loss: 0.1864 - accuracy: 0.9125\n",
      "Epoch 54/100\n",
      "27676/27676 [==============================] - 3s 119us/step - loss: 0.1845 - accuracy: 0.9140\n",
      "Epoch 55/100\n",
      "27676/27676 [==============================] - 3s 118us/step - loss: 0.1829 - accuracy: 0.9138\n",
      "Epoch 56/100\n",
      "27676/27676 [==============================] - 3s 113us/step - loss: 0.1827 - accuracy: 0.9140\n",
      "Epoch 57/100\n",
      "27676/27676 [==============================] - 3s 117us/step - loss: 0.1805 - accuracy: 0.9151\n",
      "Epoch 58/100\n",
      "27676/27676 [==============================] - 3s 114us/step - loss: 0.1812 - accuracy: 0.9142\n",
      "Epoch 59/100\n",
      "27676/27676 [==============================] - 3s 116us/step - loss: 0.1794 - accuracy: 0.9164\n",
      "Epoch 60/100\n",
      "27676/27676 [==============================] - 3s 117us/step - loss: 0.1789 - accuracy: 0.9157\n",
      "Epoch 61/100\n",
      "27676/27676 [==============================] - 3s 112us/step - loss: 0.1758 - accuracy: 0.9161\n",
      "Epoch 62/100\n",
      "27676/27676 [==============================] - 3s 116us/step - loss: 0.1772 - accuracy: 0.9165\n",
      "Epoch 63/100\n",
      "27676/27676 [==============================] - 3s 116us/step - loss: 0.1767 - accuracy: 0.9163\n",
      "Epoch 64/100\n",
      "27676/27676 [==============================] - 3s 115us/step - loss: 0.1753 - accuracy: 0.9178\n",
      "Epoch 65/100\n",
      "27676/27676 [==============================] - 3s 120us/step - loss: 0.1728 - accuracy: 0.9179\n",
      "Epoch 66/100\n",
      "27676/27676 [==============================] - 3s 117us/step - loss: 0.1739 - accuracy: 0.9186\n",
      "Epoch 67/100\n",
      "27676/27676 [==============================] - 3s 112us/step - loss: 0.1737 - accuracy: 0.9173\n",
      "Epoch 68/100\n",
      "27676/27676 [==============================] - 3s 117us/step - loss: 0.1706 - accuracy: 0.9197\n",
      "Epoch 69/100\n",
      "27676/27676 [==============================] - 3s 113us/step - loss: 0.1707 - accuracy: 0.9214\n",
      "Epoch 70/100\n",
      "27676/27676 [==============================] - 3s 124us/step - loss: 0.1716 - accuracy: 0.9199\n",
      "Epoch 71/100\n",
      "27676/27676 [==============================] - 3s 126us/step - loss: 0.1696 - accuracy: 0.9207\n",
      "Epoch 72/100\n",
      "27676/27676 [==============================] - 4s 128us/step - loss: 0.1684 - accuracy: 0.9205\n",
      "Epoch 73/100\n",
      "27676/27676 [==============================] - 3s 113us/step - loss: 0.1692 - accuracy: 0.9208\n",
      "Epoch 74/100\n",
      "27676/27676 [==============================] - 3s 115us/step - loss: 0.1681 - accuracy: 0.9213\n",
      "Epoch 75/100\n",
      "27676/27676 [==============================] - 3s 119us/step - loss: 0.1684 - accuracy: 0.9228\n",
      "Epoch 76/100\n",
      "27676/27676 [==============================] - 3s 110us/step - loss: 0.1659 - accuracy: 0.9221\n",
      "Epoch 77/100\n",
      "27676/27676 [==============================] - 3s 115us/step - loss: 0.1670 - accuracy: 0.9216\n",
      "Epoch 78/100\n",
      "27676/27676 [==============================] - 3s 108us/step - loss: 0.1664 - accuracy: 0.9215\n",
      "Epoch 79/100\n",
      "27676/27676 [==============================] - 3s 112us/step - loss: 0.1644 - accuracy: 0.9234\n",
      "Epoch 80/100\n",
      "27676/27676 [==============================] - 3s 116us/step - loss: 0.1643 - accuracy: 0.9225\n",
      "Epoch 81/100\n",
      "27676/27676 [==============================] - 3s 112us/step - loss: 0.1642 - accuracy: 0.9223\n",
      "Epoch 82/100\n",
      "27676/27676 [==============================] - 3s 110us/step - loss: 0.1643 - accuracy: 0.9219\n",
      "Epoch 83/100\n",
      "27676/27676 [==============================] - 3s 108us/step - loss: 0.1630 - accuracy: 0.9223\n",
      "Epoch 84/100\n",
      "27676/27676 [==============================] - 3s 113us/step - loss: 0.1630 - accuracy: 0.9235\n",
      "Epoch 85/100\n",
      "27676/27676 [==============================] - 3s 110us/step - loss: 0.1631 - accuracy: 0.9236\n",
      "Epoch 86/100\n",
      "27676/27676 [==============================] - 3s 111us/step - loss: 0.1608 - accuracy: 0.9243\n",
      "Epoch 87/100\n",
      "27676/27676 [==============================] - 3s 107us/step - loss: 0.1618 - accuracy: 0.9240\n",
      "Epoch 88/100\n",
      "27676/27676 [==============================] - 3s 114us/step - loss: 0.1602 - accuracy: 0.9244\n",
      "Epoch 89/100\n",
      "27676/27676 [==============================] - 3s 110us/step - loss: 0.1581 - accuracy: 0.9268\n",
      "Epoch 90/100\n",
      "27676/27676 [==============================] - 3s 112us/step - loss: 0.1587 - accuracy: 0.9255\n",
      "Epoch 91/100\n",
      "27676/27676 [==============================] - 3s 110us/step - loss: 0.1600 - accuracy: 0.9225\n",
      "Epoch 92/100\n",
      "27676/27676 [==============================] - 3s 122us/step - loss: 0.1560 - accuracy: 0.9277\n",
      "Epoch 93/100\n",
      "27676/27676 [==============================] - 3s 116us/step - loss: 0.1591 - accuracy: 0.9254\n",
      "Epoch 94/100\n",
      "27676/27676 [==============================] - 3s 111us/step - loss: 0.1576 - accuracy: 0.9256\n",
      "Epoch 95/100\n",
      "27676/27676 [==============================] - 3s 115us/step - loss: 0.1560 - accuracy: 0.9268\n",
      "Epoch 96/100\n",
      "27676/27676 [==============================] - 3s 107us/step - loss: 0.1567 - accuracy: 0.9263\n",
      "Epoch 97/100\n",
      "27676/27676 [==============================] - 3s 112us/step - loss: 0.1551 - accuracy: 0.9273\n",
      "Epoch 98/100\n",
      "27676/27676 [==============================] - 3s 110us/step - loss: 0.1559 - accuracy: 0.9269\n",
      "Epoch 99/100\n",
      "27676/27676 [==============================] - 3s 113us/step - loss: 0.1550 - accuracy: 0.9289\n",
      "Epoch 100/100\n",
      "27676/27676 [==============================] - 3s 107us/step - loss: 0.1532 - accuracy: 0.9291\n"
     ]
    }
   ],
   "source": [
    "classificador.fit(previsores_treinamento,classe_treinamento,batch_size=10,epochs=100)\n",
    "previsoes = classificador.predict(previsores_teste)\n",
    "previsoes = (previsoes>0.5)"
   ]
  },
  {
   "cell_type": "code",
   "execution_count": 22,
   "metadata": {},
   "outputs": [],
   "source": [
    "from sklearn.metrics import confusion_matrix,accuracy_score\n",
    "precisao = accuracy_score(classe_teste,previsoes)\n",
    "matriz = confusion_matrix(classe_teste,previsoes)"
   ]
  },
  {
   "cell_type": "code",
   "execution_count": 23,
   "metadata": {},
   "outputs": [
    {
     "data": {
      "text/plain": [
       "0.8143295803480041"
      ]
     },
     "execution_count": 23,
     "metadata": {},
     "output_type": "execute_result"
    }
   ],
   "source": [
    "precisao"
   ]
  },
  {
   "cell_type": "code",
   "execution_count": 24,
   "metadata": {},
   "outputs": [
    {
     "data": {
      "text/plain": [
       "array([[3272,  421],\n",
       "       [ 486,  706]], dtype=int64)"
      ]
     },
     "execution_count": 24,
     "metadata": {},
     "output_type": "execute_result"
    }
   ],
   "source": [
    "matriz"
   ]
  },
  {
   "cell_type": "code",
   "execution_count": null,
   "metadata": {},
   "outputs": [],
   "source": []
  }
 ],
 "metadata": {
  "kernelspec": {
   "display_name": "Python 3",
   "language": "python",
   "name": "python3"
  },
  "language_info": {
   "codemirror_mode": {
    "name": "ipython",
    "version": 3
   },
   "file_extension": ".py",
   "mimetype": "text/x-python",
   "name": "python",
   "nbconvert_exporter": "python",
   "pygments_lexer": "ipython3",
   "version": "3.7.6"
  }
 },
 "nbformat": 4,
 "nbformat_minor": 4
}

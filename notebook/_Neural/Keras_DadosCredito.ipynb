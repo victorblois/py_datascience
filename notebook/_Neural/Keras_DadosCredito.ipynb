{
 "cells": [
  {
   "cell_type": "code",
   "execution_count": 4,
   "metadata": {},
   "outputs": [],
   "source": [
    "import pandas as pd"
   ]
  },
  {
   "cell_type": "code",
   "execution_count": 5,
   "metadata": {},
   "outputs": [],
   "source": [
    "import os.path\n",
    "def path_base(base_name):\n",
    "    current_dir = os.path.abspath(os.path.join(os.getcwd(), os.pardir))\n",
    "    print(current_dir)\n",
    "    data_dir = current_dir.replace('notebook','data')\n",
    "    print(data_dir)\n",
    "    data_base = data_dir + '\\\\' + base_name\n",
    "    print(data_base)\n",
    "    return data_base"
   ]
  },
  {
   "cell_type": "code",
   "execution_count": 6,
   "metadata": {
    "scrolled": false
   },
   "outputs": [
    {
     "name": "stdout",
     "output_type": "stream",
     "text": [
      "C:\\MyPhyton\\DataScience\\notebook\n",
      "C:\\MyPhyton\\DataScience\\data\n",
      "C:\\MyPhyton\\DataScience\\data\\db_dados_credito.csv\n"
     ]
    }
   ],
   "source": [
    "base = pd.read_csv(path_base('db_dados_credito.csv'))"
   ]
  },
  {
   "cell_type": "code",
   "execution_count": 8,
   "metadata": {},
   "outputs": [],
   "source": [
    "base.loc[base.age < 0, 'age'] = 40.92"
   ]
  },
  {
   "cell_type": "code",
   "execution_count": 5,
   "metadata": {},
   "outputs": [],
   "source": [
    "previsores = base.iloc[:, 1:4]\n",
    "classe = base.iloc[:, 4]"
   ]
  },
  {
   "cell_type": "code",
   "execution_count": 27,
   "metadata": {},
   "outputs": [],
   "source": [
    "import numpy as np\n",
    "from sklearn.impute import SimpleImputer\n",
    "imputer = SimpleImputer(missing_values=np.nan, strategy='mean')"
   ]
  },
  {
   "cell_type": "code",
   "execution_count": 28,
   "metadata": {},
   "outputs": [],
   "source": [
    "imputer = imputer.fit(previsores.iloc[:, 0:3])\n",
    "previsores.iloc[:, 0:3] = imputer.transform(previsores.iloc[:,0:3])"
   ]
  },
  {
   "cell_type": "code",
   "execution_count": 29,
   "metadata": {},
   "outputs": [
    {
     "name": "stdout",
     "output_type": "stream",
     "text": [
      "59.017015066929204\n",
      "40.92768888103586\n",
      "40.92768888103586\n",
      "40.92768888103586\n"
     ]
    },
    {
     "data": {
      "text/html": [
       "<div>\n",
       "<style scoped>\n",
       "    .dataframe tbody tr th:only-of-type {\n",
       "        vertical-align: middle;\n",
       "    }\n",
       "\n",
       "    .dataframe tbody tr th {\n",
       "        vertical-align: top;\n",
       "    }\n",
       "\n",
       "    .dataframe thead th {\n",
       "        text-align: right;\n",
       "    }\n",
       "</style>\n",
       "<table border=\"1\" class=\"dataframe\">\n",
       "  <thead>\n",
       "    <tr style=\"text-align: right;\">\n",
       "      <th></th>\n",
       "      <th>income</th>\n",
       "      <th>age</th>\n",
       "      <th>loan</th>\n",
       "    </tr>\n",
       "  </thead>\n",
       "  <tbody>\n",
       "    <tr>\n",
       "      <th>0</th>\n",
       "      <td>66155.925095</td>\n",
       "      <td>59.017015</td>\n",
       "      <td>8106.532131</td>\n",
       "    </tr>\n",
       "    <tr>\n",
       "      <th>1</th>\n",
       "      <td>34415.153966</td>\n",
       "      <td>48.117153</td>\n",
       "      <td>6564.745018</td>\n",
       "    </tr>\n",
       "    <tr>\n",
       "      <th>2</th>\n",
       "      <td>57317.170063</td>\n",
       "      <td>63.108049</td>\n",
       "      <td>8020.953296</td>\n",
       "    </tr>\n",
       "  </tbody>\n",
       "</table>\n",
       "</div>"
      ],
      "text/plain": [
       "         income        age         loan\n",
       "0  66155.925095  59.017015  8106.532131\n",
       "1  34415.153966  48.117153  6564.745018\n",
       "2  57317.170063  63.108049  8020.953296"
      ]
     },
     "execution_count": 29,
     "metadata": {},
     "output_type": "execute_result"
    }
   ],
   "source": [
    "print(previsores.loc[0].age)\n",
    "print(previsores.loc[28].age)\n",
    "print(previsores.loc[30].age)\n",
    "print(previsores.loc[31].age)\n",
    "previsores.head(3)"
   ]
  },
  {
   "cell_type": "code",
   "execution_count": 30,
   "metadata": {},
   "outputs": [],
   "source": [
    "from sklearn.preprocessing import StandardScaler\n",
    "scaler = StandardScaler()\n",
    "previsores = scaler.fit_transform(previsores)"
   ]
  },
  {
   "cell_type": "code",
   "execution_count": 31,
   "metadata": {},
   "outputs": [],
   "source": [
    "from sklearn.model_selection import train_test_split\n",
    "previsores_treinamento, previsores_teste, classe_treinamento, classe_teste = train_test_split(previsores, classe, test_size=0.25, random_state=0)"
   ]
  },
  {
   "cell_type": "code",
   "execution_count": 32,
   "metadata": {},
   "outputs": [],
   "source": [
    "import keras\n",
    "from keras.models import Sequential\n",
    "from keras.layers import Dense"
   ]
  },
  {
   "cell_type": "code",
   "execution_count": 33,
   "metadata": {},
   "outputs": [],
   "source": [
    "classificador = Sequential()\n",
    "classificador.add(Dense(units=2,activation='relu',input_dim=3))\n",
    "classificador.add(Dense(units=2,activation='relu'))\n",
    "classificador.add(Dense(units=1,activation='sigmoid'))\n",
    "classificador.compile(optimizer='adam',\n",
    "                      loss = 'binary_crossentropy',\n",
    "                     metrics=['accuracy'])"
   ]
  },
  {
   "cell_type": "code",
   "execution_count": 34,
   "metadata": {},
   "outputs": [
    {
     "name": "stdout",
     "output_type": "stream",
     "text": [
      "Epoch 1/100\n",
      "1500/1500 [==============================] - 0s 222us/step - loss: 0.6636 - accuracy: 0.8593\n",
      "Epoch 2/100\n",
      "1500/1500 [==============================] - 0s 129us/step - loss: 0.6141 - accuracy: 0.9240\n",
      "Epoch 3/100\n",
      "1500/1500 [==============================] - 0s 119us/step - loss: 0.5692 - accuracy: 0.9260\n",
      "Epoch 4/100\n",
      "1500/1500 [==============================] - 0s 161us/step - loss: 0.5270 - accuracy: 0.9287\n",
      "Epoch 5/100\n",
      "1500/1500 [==============================] - 0s 92us/step - loss: 0.4872 - accuracy: 0.9333\n",
      "Epoch 6/100\n",
      "1500/1500 [==============================] - 0s 98us/step - loss: 0.4504 - accuracy: 0.9420\n",
      "Epoch 7/100\n",
      "1500/1500 [==============================] - 0s 91us/step - loss: 0.4170 - accuracy: 0.9440\n",
      "Epoch 8/100\n",
      "1500/1500 [==============================] - 0s 159us/step - loss: 0.3868 - accuracy: 0.9467\n",
      "Epoch 9/100\n",
      "1500/1500 [==============================] - 0s 103us/step - loss: 0.3598 - accuracy: 0.9453\n",
      "Epoch 10/100\n",
      "1500/1500 [==============================] - 0s 110us/step - loss: 0.3355 - accuracy: 0.9500\n",
      "Epoch 11/100\n",
      "1500/1500 [==============================] - 0s 90us/step - loss: 0.3139 - accuracy: 0.9500\n",
      "Epoch 12/100\n",
      "1500/1500 [==============================] - 0s 96us/step - loss: 0.2943 - accuracy: 0.9507\n",
      "Epoch 13/100\n",
      "1500/1500 [==============================] - 0s 127us/step - loss: 0.2767 - accuracy: 0.9520\n",
      "Epoch 14/100\n",
      "1500/1500 [==============================] - 0s 94us/step - loss: 0.2610 - accuracy: 0.9527\n",
      "Epoch 15/100\n",
      "1500/1500 [==============================] - 0s 133us/step - loss: 0.2465 - accuracy: 0.9520\n",
      "Epoch 16/100\n",
      "1500/1500 [==============================] - 0s 128us/step - loss: 0.2335 - accuracy: 0.9520\n",
      "Epoch 17/100\n",
      "1500/1500 [==============================] - 0s 97us/step - loss: 0.2216 - accuracy: 0.9533\n",
      "Epoch 18/100\n",
      "1500/1500 [==============================] - 0s 102us/step - loss: 0.2107 - accuracy: 0.9527\n",
      "Epoch 19/100\n",
      "1500/1500 [==============================] - 0s 107us/step - loss: 0.2007 - accuracy: 0.9527\n",
      "Epoch 20/100\n",
      "1500/1500 [==============================] - 0s 93us/step - loss: 0.1913 - accuracy: 0.9540\n",
      "Epoch 21/100\n",
      "1500/1500 [==============================] - 0s 98us/step - loss: 0.1829 - accuracy: 0.9553\n",
      "Epoch 22/100\n",
      "1500/1500 [==============================] - 0s 116us/step - loss: 0.1747 - accuracy: 0.9567\n",
      "Epoch 23/100\n",
      "1500/1500 [==============================] - 0s 157us/step - loss: 0.1672 - accuracy: 0.9580\n",
      "Epoch 24/100\n",
      "1500/1500 [==============================] - 0s 100us/step - loss: 0.1601 - accuracy: 0.9587\n",
      "Epoch 25/100\n",
      "1500/1500 [==============================] - 0s 93us/step - loss: 0.1540 - accuracy: 0.9573\n",
      "Epoch 26/100\n",
      "1500/1500 [==============================] - 0s 97us/step - loss: 0.1479 - accuracy: 0.9587\n",
      "Epoch 27/100\n",
      "1500/1500 [==============================] - 0s 132us/step - loss: 0.1424 - accuracy: 0.9607\n",
      "Epoch 28/100\n",
      "1500/1500 [==============================] - 0s 112us/step - loss: 0.1369 - accuracy: 0.9633\n",
      "Epoch 29/100\n",
      "1500/1500 [==============================] - 0s 100us/step - loss: 0.1320 - accuracy: 0.9627\n",
      "Epoch 30/100\n",
      "1500/1500 [==============================] - 0s 159us/step - loss: 0.1274 - accuracy: 0.9640\n",
      "Epoch 31/100\n",
      "1500/1500 [==============================] - 0s 93us/step - loss: 0.1234 - accuracy: 0.9633\n",
      "Epoch 32/100\n",
      "1500/1500 [==============================] - 0s 99us/step - loss: 0.1192 - accuracy: 0.9627\n",
      "Epoch 33/100\n",
      "1500/1500 [==============================] - 0s 93us/step - loss: 0.1152 - accuracy: 0.9667\n",
      "Epoch 34/100\n",
      "1500/1500 [==============================] - 0s 100us/step - loss: 0.1114 - accuracy: 0.9660\n",
      "Epoch 35/100\n",
      "1500/1500 [==============================] - 0s 96us/step - loss: 0.1081 - accuracy: 0.9667\n",
      "Epoch 36/100\n",
      "1500/1500 [==============================] - 0s 102us/step - loss: 0.1050 - accuracy: 0.9660\n",
      "Epoch 37/100\n",
      "1500/1500 [==============================] - 0s 134us/step - loss: 0.1020 - accuracy: 0.9693\n",
      "Epoch 38/100\n",
      "1500/1500 [==============================] - 0s 123us/step - loss: 0.0991 - accuracy: 0.9687\n",
      "Epoch 39/100\n",
      "1500/1500 [==============================] - 0s 100us/step - loss: 0.0961 - accuracy: 0.9673\n",
      "Epoch 40/100\n",
      "1500/1500 [==============================] - 0s 93us/step - loss: 0.0935 - accuracy: 0.9667\n",
      "Epoch 41/100\n",
      "1500/1500 [==============================] - 0s 92us/step - loss: 0.0910 - accuracy: 0.9693\n",
      "Epoch 42/100\n",
      "1500/1500 [==============================] - 0s 102us/step - loss: 0.0887 - accuracy: 0.9713\n",
      "Epoch 43/100\n",
      "1500/1500 [==============================] - 0s 88us/step - loss: 0.0863 - accuracy: 0.9713\n",
      "Epoch 44/100\n",
      "1500/1500 [==============================] - 0s 95us/step - loss: 0.0842 - accuracy: 0.9733\n",
      "Epoch 45/100\n",
      "1500/1500 [==============================] - 0s 178us/step - loss: 0.0821 - accuracy: 0.9713\n",
      "Epoch 46/100\n",
      "1500/1500 [==============================] - 0s 103us/step - loss: 0.0800 - accuracy: 0.9753\n",
      "Epoch 47/100\n",
      "1500/1500 [==============================] - 0s 93us/step - loss: 0.0781 - accuracy: 0.9733\n",
      "Epoch 48/100\n",
      "1500/1500 [==============================] - 0s 98us/step - loss: 0.0764 - accuracy: 0.9753\n",
      "Epoch 49/100\n",
      "1500/1500 [==============================] - 0s 91us/step - loss: 0.0745 - accuracy: 0.9740\n",
      "Epoch 50/100\n",
      "1500/1500 [==============================] - 0s 96us/step - loss: 0.0730 - accuracy: 0.9747\n",
      "Epoch 51/100\n",
      "1500/1500 [==============================] - 0s 104us/step - loss: 0.0713 - accuracy: 0.9760\n",
      "Epoch 52/100\n",
      "1500/1500 [==============================] - 0s 182us/step - loss: 0.0697 - accuracy: 0.9760\n",
      "Epoch 53/100\n",
      "1500/1500 [==============================] - 0s 118us/step - loss: 0.0682 - accuracy: 0.9760\n",
      "Epoch 54/100\n",
      "1500/1500 [==============================] - 0s 109us/step - loss: 0.0668 - accuracy: 0.9780\n",
      "Epoch 55/100\n",
      "1500/1500 [==============================] - 0s 120us/step - loss: 0.0654 - accuracy: 0.9780\n",
      "Epoch 56/100\n",
      "1500/1500 [==============================] - 0s 99us/step - loss: 0.0637 - accuracy: 0.9780\n",
      "Epoch 57/100\n",
      "1500/1500 [==============================] - 0s 99us/step - loss: 0.0630 - accuracy: 0.9787\n",
      "Epoch 58/100\n",
      "1500/1500 [==============================] - 0s 98us/step - loss: 0.0612 - accuracy: 0.9787\n",
      "Epoch 59/100\n",
      "1500/1500 [==============================] - 0s 132us/step - loss: 0.0600 - accuracy: 0.9793\n",
      "Epoch 60/100\n",
      "1500/1500 [==============================] - 0s 132us/step - loss: 0.0588 - accuracy: 0.9793\n",
      "Epoch 61/100\n",
      "1500/1500 [==============================] - 0s 90us/step - loss: 0.0576 - accuracy: 0.9800\n",
      "Epoch 62/100\n",
      "1500/1500 [==============================] - 0s 96us/step - loss: 0.0566 - accuracy: 0.9813\n",
      "Epoch 63/100\n",
      "1500/1500 [==============================] - 0s 100us/step - loss: 0.0557 - accuracy: 0.9820\n",
      "Epoch 64/100\n",
      "1500/1500 [==============================] - 0s 98us/step - loss: 0.0544 - accuracy: 0.9833\n",
      "Epoch 65/100\n",
      "1500/1500 [==============================] - 0s 96us/step - loss: 0.0533 - accuracy: 0.9833\n",
      "Epoch 66/100\n",
      "1500/1500 [==============================] - 0s 102us/step - loss: 0.0523 - accuracy: 0.9840\n",
      "Epoch 67/100\n",
      "1500/1500 [==============================] - 0s 162us/step - loss: 0.0513 - accuracy: 0.9833\n",
      "Epoch 68/100\n",
      "1500/1500 [==============================] - 0s 93us/step - loss: 0.0503 - accuracy: 0.9847\n",
      "Epoch 69/100\n",
      "1500/1500 [==============================] - 0s 102us/step - loss: 0.0493 - accuracy: 0.9847\n",
      "Epoch 70/100\n",
      "1500/1500 [==============================] - 0s 95us/step - loss: 0.0485 - accuracy: 0.9840\n",
      "Epoch 71/100\n",
      "1500/1500 [==============================] - 0s 104us/step - loss: 0.0475 - accuracy: 0.9853\n",
      "Epoch 72/100\n",
      "1500/1500 [==============================] - 0s 97us/step - loss: 0.0465 - accuracy: 0.9847\n",
      "Epoch 73/100\n",
      "1500/1500 [==============================] - 0s 97us/step - loss: 0.0458 - accuracy: 0.9853\n",
      "Epoch 74/100\n",
      "1500/1500 [==============================] - 0s 119us/step - loss: 0.0451 - accuracy: 0.9867\n",
      "Epoch 75/100\n",
      "1500/1500 [==============================] - 0s 191us/step - loss: 0.0439 - accuracy: 0.9867\n",
      "Epoch 76/100\n",
      "1500/1500 [==============================] - 0s 106us/step - loss: 0.0432 - accuracy: 0.9873\n",
      "Epoch 77/100\n",
      "1500/1500 [==============================] - 0s 94us/step - loss: 0.0427 - accuracy: 0.9887\n",
      "Epoch 78/100\n",
      "1500/1500 [==============================] - 0s 96us/step - loss: 0.0415 - accuracy: 0.9900\n",
      "Epoch 79/100\n",
      "1500/1500 [==============================] - 0s 97us/step - loss: 0.0409 - accuracy: 0.9893\n",
      "Epoch 80/100\n",
      "1500/1500 [==============================] - 0s 92us/step - loss: 0.0402 - accuracy: 0.9887\n",
      "Epoch 81/100\n",
      "1500/1500 [==============================] - 0s 100us/step - loss: 0.0394 - accuracy: 0.9893\n",
      "Epoch 82/100\n",
      "1500/1500 [==============================] - 0s 157us/step - loss: 0.0390 - accuracy: 0.9880\n",
      "Epoch 83/100\n",
      "1500/1500 [==============================] - 0s 92us/step - loss: 0.0381 - accuracy: 0.9900\n",
      "Epoch 84/100\n",
      "1500/1500 [==============================] - 0s 97us/step - loss: 0.0375 - accuracy: 0.9913\n",
      "Epoch 85/100\n",
      "1500/1500 [==============================] - 0s 94us/step - loss: 0.0369 - accuracy: 0.9900\n",
      "Epoch 86/100\n",
      "1500/1500 [==============================] - ETA: 0s - loss: 0.0328 - accuracy: 0.99 - 0s 92us/step - loss: 0.0360 - accuracy: 0.9900\n",
      "Epoch 87/100\n",
      "1500/1500 [==============================] - 0s 102us/step - loss: 0.0357 - accuracy: 0.9913\n",
      "Epoch 88/100\n",
      "1500/1500 [==============================] - 0s 94us/step - loss: 0.0349 - accuracy: 0.9913\n",
      "Epoch 89/100\n",
      "1500/1500 [==============================] - 0s 135us/step - loss: 0.0344 - accuracy: 0.9913\n",
      "Epoch 90/100\n",
      "1500/1500 [==============================] - 0s 128us/step - loss: 0.0337 - accuracy: 0.9920\n",
      "Epoch 91/100\n",
      "1500/1500 [==============================] - 0s 92us/step - loss: 0.0335 - accuracy: 0.9907\n",
      "Epoch 92/100\n",
      "1500/1500 [==============================] - 0s 92us/step - loss: 0.0327 - accuracy: 0.9920\n",
      "Epoch 93/100\n",
      "1500/1500 [==============================] - 0s 96us/step - loss: 0.0320 - accuracy: 0.9920\n",
      "Epoch 94/100\n",
      "1500/1500 [==============================] - 0s 94us/step - loss: 0.0315 - accuracy: 0.9913\n",
      "Epoch 95/100\n",
      "1500/1500 [==============================] - 0s 111us/step - loss: 0.0312 - accuracy: 0.9913\n",
      "Epoch 96/100\n",
      "1500/1500 [==============================] - 0s 102us/step - loss: 0.0307 - accuracy: 0.9913\n",
      "Epoch 97/100\n",
      "1500/1500 [==============================] - 0s 169us/step - loss: 0.0302 - accuracy: 0.9927\n",
      "Epoch 98/100\n",
      "1500/1500 [==============================] - 0s 98us/step - loss: 0.0298 - accuracy: 0.9927\n",
      "Epoch 99/100\n",
      "1500/1500 [==============================] - 0s 97us/step - loss: 0.0294 - accuracy: 0.9920\n",
      "Epoch 100/100\n",
      "1500/1500 [==============================] - 0s 128us/step - loss: 0.0288 - accuracy: 0.9927\n"
     ]
    },
    {
     "data": {
      "text/plain": [
       "<keras.callbacks.callbacks.History at 0x27c06411748>"
      ]
     },
     "execution_count": 34,
     "metadata": {},
     "output_type": "execute_result"
    }
   ],
   "source": [
    "classificador.fit(previsores_treinamento,classe_treinamento,batch_size=10,epochs=100)"
   ]
  },
  {
   "cell_type": "code",
   "execution_count": 35,
   "metadata": {},
   "outputs": [],
   "source": [
    "previsoes = classificador.predict(previsores_teste)\n",
    "previsoes = (previsoes>0.5)"
   ]
  },
  {
   "cell_type": "code",
   "execution_count": 36,
   "metadata": {},
   "outputs": [],
   "source": [
    "from sklearn.metrics import confusion_matrix, accuracy_score\n",
    "precisao = accuracy_score(classe_teste, previsoes)\n",
    "matriz = confusion_matrix(classe_teste, previsoes)"
   ]
  },
  {
   "cell_type": "code",
   "execution_count": 37,
   "metadata": {},
   "outputs": [
    {
     "data": {
      "text/plain": [
       "0.992"
      ]
     },
     "execution_count": 37,
     "metadata": {},
     "output_type": "execute_result"
    }
   ],
   "source": [
    "precisao"
   ]
  },
  {
   "cell_type": "code",
   "execution_count": 38,
   "metadata": {},
   "outputs": [
    {
     "data": {
      "text/plain": [
       "array([[433,   3],\n",
       "       [  1,  63]], dtype=int64)"
      ]
     },
     "execution_count": 38,
     "metadata": {},
     "output_type": "execute_result"
    }
   ],
   "source": [
    "matriz"
   ]
  },
  {
   "cell_type": "code",
   "execution_count": null,
   "metadata": {},
   "outputs": [],
   "source": []
  }
 ],
 "metadata": {
  "kernelspec": {
   "display_name": "Python 3",
   "language": "python",
   "name": "python3"
  },
  "language_info": {
   "codemirror_mode": {
    "name": "ipython",
    "version": 3
   },
   "file_extension": ".py",
   "mimetype": "text/x-python",
   "name": "python",
   "nbconvert_exporter": "python",
   "pygments_lexer": "ipython3",
   "version": "3.7.6"
  }
 },
 "nbformat": 4,
 "nbformat_minor": 4
}

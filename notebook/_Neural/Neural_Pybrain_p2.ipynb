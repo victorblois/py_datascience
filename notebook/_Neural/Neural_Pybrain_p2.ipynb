{
 "cells": [
  {
   "cell_type": "code",
   "execution_count": 22,
   "metadata": {},
   "outputs": [],
   "source": [
    "from pybrain.tools.shortcuts import buildNetwork\n",
    "from pybrain.datasets import SupervisedDataSet\n",
    "from pybrain.supervised.trainers import BackpropTrainer\n",
    "from pybrain.structure.modules import SoftmaxLayer\n",
    "from pybrain.structure.modules import SigmoidLayer"
   ]
  },
  {
   "cell_type": "code",
   "execution_count": 23,
   "metadata": {},
   "outputs": [],
   "source": [
    "#rede = buildNetwork(2,3,1, \n",
    "#                    outclass = SoftmaxLayer,\n",
    "#                   hiddenclass = SigmoidLayer,\n",
    "#                   bias = True)\n",
    "rede = buildNetwork(2,3,1)"
   ]
  },
  {
   "cell_type": "code",
   "execution_count": 24,
   "metadata": {},
   "outputs": [
    {
     "name": "stdout",
     "output_type": "stream",
     "text": [
      "<LinearLayer 'in'>\n",
      "<SigmoidLayer 'hidden0'>\n",
      "<LinearLayer 'out'>\n",
      "<BiasUnit 'bias'>\n"
     ]
    }
   ],
   "source": [
    "print(rede['in'])\n",
    "print(rede['hidden0'])\n",
    "print(rede['out'])\n",
    "print(rede['bias'])"
   ]
  },
  {
   "cell_type": "code",
   "execution_count": 25,
   "metadata": {},
   "outputs": [],
   "source": [
    "# XOR Exanple\n",
    "base = SupervisedDataSet(2,1) #2 atributos previsores 1 classe\n",
    "base.addSample((0,0),(0,))\n",
    "base.addSample((0,1),(1,))\n",
    "base.addSample((1,0),(1,))\n",
    "base.addSample((1,1),(0,))"
   ]
  },
  {
   "cell_type": "code",
   "execution_count": 26,
   "metadata": {},
   "outputs": [
    {
     "name": "stdout",
     "output_type": "stream",
     "text": [
      "input: dim(6, 2)\n",
      "[[0. 0.]\n",
      " [0. 1.]\n",
      " [1. 0.]\n",
      " [1. 1.]]\n",
      "\n",
      "target: dim(6, 1)\n",
      "[[0.]\n",
      " [1.]\n",
      " [1.]\n",
      " [0.]]\n",
      "\n",
      "\n"
     ]
    }
   ],
   "source": [
    "print(base)"
   ]
  },
  {
   "cell_type": "code",
   "execution_count": 27,
   "metadata": {},
   "outputs": [],
   "source": [
    "treinamento = BackpropTrainer(rede,\n",
    "                              dataset=base,\n",
    "                              learningrate=0.01,\n",
    "                             momentum=0.06)"
   ]
  },
  {
   "cell_type": "code",
   "execution_count": 28,
   "metadata": {},
   "outputs": [
    {
     "name": "stdout",
     "output_type": "stream",
     "text": [
      "Erro: 0.00024294335380669132\n",
      "Erro: 1.235858883599298e-09\n",
      "Erro: 5.780035339991711e-15\n",
      "Erro: 2.7002588224577638e-20\n",
      "Erro: 1.2528472576268756e-25\n"
     ]
    }
   ],
   "source": [
    "for i in range(1,30000):\n",
    "    erro = treinamento.train()\n",
    "    if i% 5000 == 0:\n",
    "        print(\"Erro: %s\" % erro)"
   ]
  },
  {
   "cell_type": "code",
   "execution_count": 32,
   "metadata": {},
   "outputs": [
    {
     "name": "stdout",
     "output_type": "stream",
     "text": [
      "[3.41948692e-14]\n",
      "[1.]\n",
      "[1.]\n",
      "[3.06421555e-14]\n"
     ]
    }
   ],
   "source": [
    "print(rede.activate([0,0]))\n",
    "print(rede.activate([1,0]))\n",
    "print(rede.activate([0,1]))\n",
    "print(rede.activate([1,1]))"
   ]
  },
  {
   "cell_type": "code",
   "execution_count": null,
   "metadata": {},
   "outputs": [],
   "source": []
  }
 ],
 "metadata": {
  "kernelspec": {
   "display_name": "Python 3",
   "language": "python",
   "name": "python3"
  },
  "language_info": {
   "codemirror_mode": {
    "name": "ipython",
    "version": 3
   },
   "file_extension": ".py",
   "mimetype": "text/x-python",
   "name": "python",
   "nbconvert_exporter": "python",
   "pygments_lexer": "ipython3",
   "version": "3.7.6"
  }
 },
 "nbformat": 4,
 "nbformat_minor": 4
}
